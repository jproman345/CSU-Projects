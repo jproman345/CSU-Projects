{
 "cells": [
  {
   "cell_type": "markdown",
   "metadata": {},
   "source": [
    "## Exercise  07:  NumPy practice\n",
    "\n",
    "The objective of this exercise is to practice your NumPy skills."
   ]
  },
  {
   "cell_type": "code",
   "execution_count": 64,
   "metadata": {},
   "outputs": [],
   "source": [
    "import numpy as np\n",
    "import math"
   ]
  },
  {
   "cell_type": "markdown",
   "metadata": {},
   "source": [
    "### Counting zeros\n",
    "\n",
    "For a 1-d array $x$, we'll define its `number_of_zeros` as the number of elements in the array that are equal to zero.\n",
    "For example, for the array \n",
    "\n",
    "```Python\n",
    "[1, 5, 0, 6, 0, 1]\n",
    "```\n",
    "\n",
    "The `number_of_zeros` is equal to 2.\n",
    "\n",
    "We can apply `number_of_zeros` to a matrix $X$ (i.e. a 2-d array).\n",
    "The definition can be applied either to the columns or rows of the matrix, resulting in an array of `number_of_zeros` values for each column/row.  Your task is to write a function that computes `number_of_zeros` for a 2-d array.  You may not use the NumPy functions count_nonzero, nonzero, and argwhere.\n",
    "\n",
    "For example, for the matrix\n",
    "```Python\n",
    "2 0 3 0\n",
    "0 0 1 5\n",
    "0 0 0 6\n",
    "```\n",
    "\n",
    "when applied to the columns, the result should be an array that contains the numbers\n",
    "\n",
    "```Python\n",
    "2 3 1 1\n",
    "```\n",
    "\n",
    "when applied to the rows the result should be an array that contains the numbers\n",
    "\n",
    "```Python\n",
    "2 2 3\n",
    "```\n",
    "\n",
    "Fill in the following function for computing `number_of_zeros`.  The axis  argument should control whether the operation is performed on columns or rows.\n",
    "\n",
    "In addition to writing the function, write code that tests its correctness, i.e. compares its output to a result you know is correct, returning True/False on whether it matches that correct output."
   ]
  },
  {
   "cell_type": "code",
   "execution_count": 74,
   "metadata": {},
   "outputs": [],
   "source": [
    "import numpy as np\n",
    "import math"
   ]
  },
  {
   "cell_type": "code",
   "execution_count": 75,
   "metadata": {},
   "outputs": [],
   "source": [
    "def number_of_zeros(X, axis=0):\n",
    "    num_rows = len(X)\n",
    "    num_cols = len(X[0])\n",
    "\n",
    "    if axis == 0:\n",
    "        zeros_count = [0] * num_cols\n",
    "        for col in range(num_cols):\n",
    "            for row in range(num_rows):\n",
    "                if X[row][col] == 0:\n",
    "                    zeros_count[col] += 1\n",
    "        return zeros_count\n",
    "\n",
    "    elif axis == 1:\n",
    "        zeros_count = [0] * num_rows\n",
    "        for row in range(num_rows):\n",
    "            for val in X[row]:\n",
    "                if val == 0:\n",
    "                    zeros_count[row] += 1\n",
    "        return zeros_count\n",
    "\n",
    "    else:\n",
    "        raise ValueError(\"Invalid axis value.\")"
   ]
  },
  {
   "cell_type": "code",
   "execution_count": 76,
   "metadata": {},
   "outputs": [
    {
     "name": "stdout",
     "output_type": "stream",
     "text": [
      "Test case for columns: True\n",
      "Test case for rows: True\n"
     ]
    }
   ],
   "source": [
    "# test your code here\n",
    "# your testing should verify that the code works correctly, i.e.\n",
    "# will return a True/False on whether it matches a result you know\n",
    "# is correct\n",
    "matrix1 = [\n",
    "    [2, 0, 3, 0],\n",
    "    [0, 0, 1, 5],\n",
    "    [0, 0, 0, 6]\n",
    "]\n",
    "result1 = number_of_zeros(matrix1, axis=0)\n",
    "correct_result1 = [2, 3, 1, 1]\n",
    "print(\"Test case for columns:\", result1 == correct_result1)\n",
    "\n",
    "matrix2 = [\n",
    "    [2, 0, 3, 0],\n",
    "    [0, 0, 1, 5],\n",
    "    [0, 0, 0, 6]\n",
    "]\n",
    "result2 = number_of_zeros(matrix2, axis=1)\n",
    "correct_result2 = [2, 2, 3]\n",
    "print(\"Test case for rows:\", result2 == correct_result2)"
   ]
  },
  {
   "cell_type": "markdown",
   "metadata": {},
   "source": [
    "### Removing sparse columns\n",
    "\n",
    "Write a function that removes sparse columns from a 2-d array.\n",
    "We will define a sparse column as a column that contains mostly zeros, and more specifically, the number of zeros is at least 90% of the entries in the column.  For example, if we apply this to the matrix\n",
    "\n",
    "```Python\n",
    "2 0 3 0\n",
    "0 0 1 5\n",
    "0 0 0 6\n",
    "```\n",
    "\n",
    "The second column would be removed.\n",
    "You can use the `number_of_zeros` function you just wrote to help you in this task.\n",
    "\n",
    "As in the previous problem, you also need to write code to test whether your function works correctly by comparing its output to a case where you know the correct solution."
   ]
  },
  {
   "cell_type": "code",
   "execution_count": 77,
   "metadata": {},
   "outputs": [],
   "source": [
    "def remove_sparse_columns(X):\n",
    "    num_rows = len(X)\n",
    "    \n",
    "    zeros_per_column = number_of_zeros(X, axis=0)\n",
    "\n",
    "    keep_columns = []\n",
    "    for col, num_zeros in enumerate(zeros_per_column):\n",
    "        if num_zeros / num_rows < 0.9:\n",
    "            keep_columns.append(col)\n",
    "\n",
    "    new_matrix = []\n",
    "    for row in range(num_rows):\n",
    "        new_row = []\n",
    "        for col in keep_columns:\n",
    "            new_row.append(X[row][col])\n",
    "        new_matrix.append(new_row)\n",
    "\n",
    "    return new_matrix"
   ]
  },
  {
   "cell_type": "code",
   "execution_count": 78,
   "metadata": {},
   "outputs": [
    {
     "name": "stdout",
     "output_type": "stream",
     "text": [
      "Test case 1 with a sparse column: True\n",
      "Test case 2 without a sparse column: True\n"
     ]
    }
   ],
   "source": [
    "# test your code here\n",
    "# your testing should verify that the code works correctly, i.e.\n",
    "# will return a True/False on whether it matches a result you know\n",
    "# is correct\n",
    "correct_result1 = [\n",
    "    [2, 3, 0],\n",
    "    [0, 1, 5],\n",
    "    [0, 0, 6]\n",
    "]\n",
    "\n",
    "matrix1 = [\n",
    "    [2, 0, 3, 0],\n",
    "    [0, 0, 1, 5],\n",
    "    [0, 0, 0, 6]\n",
    "]\n",
    "result1 = remove_sparse_columns(matrix1)\n",
    "\n",
    "print(\"Test case 1 with a sparse column:\", result1 == correct_result1)\n",
    "\n",
    "matrix2 = [\n",
    "    [2, 1, 3, 0],\n",
    "    [0, 0, 1, 5],\n",
    "    [0, 0, 0, 6]\n",
    "]\n",
    "result2 = remove_sparse_columns(matrix2)\n",
    "correct_result2 = matrix2\n",
    "print(\"Test case 2 without a sparse column:\", result2 == correct_result2)"
   ]
  },
  {
   "cell_type": "markdown",
   "metadata": {},
   "source": [
    "### Replacing NaN's with zeros\n",
    "\n",
    "You are given a feature matrix that has some NaN values.  Write a function that creates a new matrix in which all the NaN values are replaced with zeros.\n"
   ]
  },
  {
   "cell_type": "code",
   "execution_count": 79,
   "metadata": {},
   "outputs": [],
   "source": [
    "# your code here\n",
    "def replace_nans_with_zeros(X):\n",
    "    num_rows = len(X)\n",
    "    num_cols = len(X[0])\n",
    "\n",
    "    new_matrix = []\n",
    "\n",
    "    for row in range(num_rows):\n",
    "        new_row = []\n",
    "        for col in range(num_cols):\n",
    "            if isinstance(X[row][col], float) and math.isnan(X[row][col]):\n",
    "                new_row.append(0)\n",
    "            else:\n",
    "                new_row.append(X[row][col])\n",
    "        new_matrix.append(new_row)\n",
    "\n",
    "    return new_matrix"
   ]
  },
  {
   "cell_type": "code",
   "execution_count": 80,
   "metadata": {},
   "outputs": [
    {
     "name": "stdout",
     "output_type": "stream",
     "text": [
      "Test case 1 with NaN values: True\n",
      "Test case 2 with no NaN values: True\n"
     ]
    }
   ],
   "source": [
    "# write code that verifies that there are no NaN values in the matrix\n",
    "# returned by your function\n",
    "matrix1 = [\n",
    "    [2, 1, math.nan, 4],\n",
    "    [5, math.nan, 7, 8],\n",
    "    [9, 10, 11, 12]\n",
    "]\n",
    "result1 = replace_nans_with_zeros(matrix1)\n",
    "correct_result1 = [\n",
    "    [2, 1, 0, 4],\n",
    "    [5, 0, 7, 8],\n",
    "    [9, 10, 11, 12]\n",
    "]\n",
    "print(\"Test case 1 with NaN values:\", result1 == correct_result1)\n",
    "\n",
    "# Test case 2: No NaN values to replace\n",
    "matrix2 = [\n",
    "    [2, 1, 3, 4],\n",
    "    [5, 6, 7, 8],\n",
    "    [9, 10, 11, 12]\n",
    "]\n",
    "result2 = replace_nans_with_zeros(matrix2)\n",
    "correct_result2 = matrix2\n",
    "print(\"Test case 2 with no NaN values:\", result2 == correct_result2)"
   ]
  }
 ],
 "metadata": {
  "kernelspec": {
   "display_name": "Python 3 (ipykernel)",
   "language": "python",
   "name": "python3"
  },
  "language_info": {
   "codemirror_mode": {
    "name": "ipython",
    "version": 3
   },
   "file_extension": ".py",
   "mimetype": "text/x-python",
   "name": "python",
   "nbconvert_exporter": "python",
   "pygments_lexer": "ipython3",
   "version": "3.11.4"
  }
 },
 "nbformat": 4,
 "nbformat_minor": 1
}
