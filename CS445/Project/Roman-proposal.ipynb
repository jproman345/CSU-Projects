{
 "cells": [
  {
   "cell_type": "markdown",
   "metadata": {},
   "source": [
    "$\\newcommand{\\xv}{\\mathbf{x}}\n",
    "\\newcommand{\\Xv}{\\mathbf{X}}\n",
    "\\newcommand{\\yv}{\\mathbf{y}}\n",
    "\\newcommand{\\zv}{\\mathbf{z}}\n",
    "\\newcommand{\\av}{\\mathbf{a}}\n",
    "\\newcommand{\\Wv}{\\mathbf{W}}\n",
    "\\newcommand{\\wv}{\\mathbf{w}}\n",
    "\\newcommand{\\tv}{\\mathbf{t}}\n",
    "\\newcommand{\\Tv}{\\mathbf{T}}\n",
    "\\newcommand{\\muv}{\\boldsymbol{\\mu}}\n",
    "\\newcommand{\\sigmav}{\\boldsymbol{\\sigma}}\n",
    "\\newcommand{\\phiv}{\\boldsymbol{\\phi}}\n",
    "\\newcommand{\\Phiv}{\\boldsymbol{\\Phi}}\n",
    "\\newcommand{\\Sigmav}{\\boldsymbol{\\Sigma}}\n",
    "\\newcommand{\\Lambdav}{\\boldsymbol{\\Lambda}}\n",
    "\\newcommand{\\half}{\\frac{1}{2}}\n",
    "\\newcommand{\\argmax}[1]{\\underset{#1}{\\operatorname{argmax}}}\n",
    "\\newcommand{\\argmin}[1]{\\underset{#1}{\\operatorname{argmin}}}$"
   ]
  },
  {
   "cell_type": "markdown",
   "metadata": {},
   "source": [
    "# Project Proposal for CS445"
   ]
  },
  {
   "cell_type": "markdown",
   "metadata": {},
   "source": [
    "Jason Roman"
   ]
  },
  {
   "cell_type": "markdown",
   "metadata": {},
   "source": [
    "## Introduction"
   ]
  },
  {
   "cell_type": "markdown",
   "metadata": {},
   "source": [
    "American Football is a sport full of injuries. On average 1 and 4 players will receive some sort of injury in the NFL during each season. As a result, players miss games, hurting the team financially and their performance on the field. Research has been done trying to prevent injury with little success. Recently, the NFL has turned toward machine learning to help reduce injury as much as possible. My project will explore the implications of this and how effective this will be in preventing injuries."
   ]
  },
  {
   "cell_type": "markdown",
   "metadata": {},
   "source": [
    "## Methods"
   ]
  },
  {
   "cell_type": "markdown",
   "metadata": {},
   "source": [
    "To get a better understanding of how they collect data and how it currently affects the NFL, I'll turn toward previous research studies. My main focus will be to find articles relating directly to research done using machine learning algorithms to see how effective machine learning is in reducing athlete injuries. Additionally, I'll explore how AWS works and how they are using it in the NFL to analyze real-time player data. At a minimum, I plan on finding 3 articles detailing the possible effects that machine learning has on football and all of sports as a whole, then I will find 3 more articles detailing AWS's role in this research as well as how it works for the NFL. All of my findings will be recorded in a Jupyter Notebook."
   ]
  },
  {
   "cell_type": "markdown",
   "metadata": {},
   "source": [
    "Here is a list of some potential articles that I will use in my exploration:\n",
    "- [Machine Learning for Understanding and Predicting Injuries in Football](https://sportsmedicine-open.springeropen.com/articles/10.1186/s40798-022-00465-4)\n",
    "- [Integrating Machine Learning for Football Injury Prediction: A Concept for an Intelligent System](https://www.sciencedirect.com/science/article/pii/S1877050923015685)\n",
    "- [Machine learning methods in sport injury prediction and prevention: a systematic review](https://jeo-esska.springeropen.com/articles/10.1186/s40634-021-00346-x)\n",
    "- [How AWS scientists help create the NFL’s Next Gen Stats](https://www.amazon.science/latest-news/how-aws-scientists-help-create-the-nfls-next-gen-stats)\n",
    "- [Power play: How AWS is helping build the future of the NFL](https://www.techradar.com/news/power-play-how-aws-is-helping-build-the-future-of-the-nfl)\n",
    "- [Building a digital athlete: Using AI to rewrite the playbook on NFL player safety](https://www.nfl.com/playerhealthandsafety/equipment-and-innovation/aws-partnership/building-a-digital-athlete-using-ai-to-rewrite-the-playbook-on-nfl-player-safety)"
   ]
  },
  {
   "cell_type": "markdown",
   "metadata": {},
   "source": [
    "## Possible Results"
   ]
  },
  {
   "cell_type": "markdown",
   "metadata": {},
   "source": [
    "This recent NFL season utilized AWS and machine learning to try and prevent injury and they were very successful. I expect that when researching this topic, I'll conclude that machine learning is very useful for making sports safer for all athletes."
   ]
  },
  {
   "cell_type": "markdown",
   "metadata": {},
   "source": [
    "## Timeline\n",
    "\n"
   ]
  },
  {
   "cell_type": "markdown",
   "metadata": {},
   "source": [
    "4/10: Collect all of the articles that I will look at.\n",
    "\n",
    "4/14: Start to read all of the articles and write about them in the Jupyter Notebook.\n",
    "\n",
    "4/18: Finish reading all of the articles.\n",
    "\n",
    "4/21: Wrap up and review the notebook.\n",
    "\n",
    "4/23: Get ready for presentation.\n",
    "\n",
    "4/25-5/02: Present\n",
    "\n",
    "5/09: Turn in project"
   ]
  }
 ],
 "metadata": {
  "kernelspec": {
   "display_name": "Python 3",
   "language": "python",
   "name": "python3"
  },
  "language_info": {
   "codemirror_mode": {
    "name": "ipython",
    "version": 3
   },
   "file_extension": ".py",
   "mimetype": "text/x-python",
   "name": "python",
   "nbconvert_exporter": "python",
   "pygments_lexer": "ipython3",
   "version": "3.7.7"
  },
  "toc": {
   "base_numbering": 1,
   "nav_menu": {},
   "number_sections": true,
   "sideBar": true,
   "skip_h1_title": false,
   "title_cell": "Table of Contents",
   "title_sidebar": "Contents",
   "toc_cell": false,
   "toc_position": {},
   "toc_section_display": true,
   "toc_window_display": false
  }
 },
 "nbformat": 4,
 "nbformat_minor": 1
}
